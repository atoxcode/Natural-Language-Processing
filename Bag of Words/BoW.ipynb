{
 "cells": [
  {
   "cell_type": "markdown",
   "id": "0c28d7c5-d49d-4c45-b858-5866d80bdb5a",
   "metadata": {},
   "source": [
    "source: https://www.geeksforgeeks.org/bag-of-words-bow-model-in-nlp/"
   ]
  },
  {
   "cell_type": "markdown",
   "id": "865a4633-c138-4c37-86b2-ce1f0a7bf50f",
   "metadata": {},
   "source": [
    "### Step #1 : We will first preprocess the data, in order to:\n",
    "- Convert text to lower case.\n",
    "- Remove all non-word characters.\n",
    "- Remove all punctuations."
   ]
  },
  {
   "cell_type": "code",
   "execution_count": 1,
   "id": "07d6131f-b36a-413e-9ecd-051f73279239",
   "metadata": {},
   "outputs": [],
   "source": [
    "# Python3 code for preprocessing text\n",
    "import nltk\n",
    "import re\n",
    "import numpy as np\n",
    "\n",
    "# execute the text here as :\n",
    "text = \"\"\" Beans. I was trying to explain to somebody as we were flying in, that’s corn. That’s beans. And they were very impressed at my agricultural knowledge. Please give it up for Amaury once again for that outstanding introduction. I have a bunch of good friends here today, including somebody who I served with, who is one of the finest senators in the country, and we’re lucky to have him, your Senator, Dick Durbin is here. I also noticed, by the way, former Governor Edgar here, who I haven’t seen in a long time, and somehow he has not aged and I have. And it’s great to see you, Governor. I want to thank President Killeen and everybody at the U of I System for making it possible for me to be here today. And I am deeply honored at the Paul Douglas Award that is being given to me. He is somebody who set the path for so much outstanding public service here in Illinois. Now, I want to start by addressing the elephant in the room. I know people are still wondering why I didn’t speak at the commencement. \"\"\"\n",
    "dataset = nltk.sent_tokenize(text)\n",
    "for i in range(len(dataset)):\n",
    "\tdataset[i] = dataset[i].lower()\n",
    "\tdataset[i] = re.sub(r'\\W', ' ', dataset[i])\n",
    "\tdataset[i] = re.sub(r'\\s+', ' ', dataset[i])"
   ]
  },
  {
   "cell_type": "code",
   "execution_count": 3,
   "id": "919dfd51-ecf3-43e0-b0f2-ace23713a43c",
   "metadata": {},
   "outputs": [
    {
     "data": {
      "text/plain": [
       "[' beans ',\n",
       " 'i was trying to explain to somebody as we were flying in that s corn ',\n",
       " 'that s beans ',\n",
       " 'and they were very impressed at my agricultural knowledge ',\n",
       " 'please give it up for amaury once again for that outstanding introduction ',\n",
       " 'i have a bunch of good friends here today including somebody who i served with who is one of the finest senators in the country and we re lucky to have him your senator dick durbin is here ',\n",
       " 'i also noticed by the way former governor edgar here who i haven t seen in a long time and somehow he has not aged and i have ',\n",
       " 'and it s great to see you governor ',\n",
       " 'i want to thank president killeen and everybody at the u of i system for making it possible for me to be here today ',\n",
       " 'and i am deeply honored at the paul douglas award that is being given to me ',\n",
       " 'he is somebody who set the path for so much outstanding public service here in illinois ',\n",
       " 'now i want to start by addressing the elephant in the room ',\n",
       " 'i know people are still wondering why i didn t speak at the commencement ']"
      ]
     },
     "execution_count": 3,
     "metadata": {},
     "output_type": "execute_result"
    }
   ],
   "source": [
    "dataset"
   ]
  },
  {
   "cell_type": "markdown",
   "id": "c83e9731-4c8e-44c7-b99b-81e18fbe903a",
   "metadata": {},
   "source": [
    "### Step #2 : Obtaining most frequent words in our text.\n",
    "\n",
    "We will apply the following steps to generate our model.\n",
    "\n",
    "- We declare a dictionary to hold our bag of words.\n",
    "- Next we tokenize each sentence to words.\n",
    "- Now for each word in sentence, we check if the word exists in our dictionary.\n",
    "- If it does, then we increment its count by 1. If it doesn’t, we add it to our dictionary and set its count as 1."
   ]
  },
  {
   "cell_type": "code",
   "execution_count": 4,
   "id": "0166dcf9-4572-4f44-b541-b864cf6ced91",
   "metadata": {},
   "outputs": [],
   "source": [
    "# Creating the Bag of Words model\n",
    "word2count = {}\n",
    "for data in dataset:\n",
    "\twords = nltk.word_tokenize(data)\n",
    "\tfor word in words:\n",
    "\t\tif word not in word2count.keys():\n",
    "\t\t\tword2count[word] = 1\n",
    "\t\telse:\n",
    "\t\t\tword2count[word] += 1"
   ]
  },
  {
   "cell_type": "code",
   "execution_count": 5,
   "id": "96c87190-156e-43c6-adaf-eeefb109b747",
   "metadata": {},
   "outputs": [
    {
     "data": {
      "text/plain": [
       "{'beans': 2,\n",
       " 'i': 12,\n",
       " 'was': 1,\n",
       " 'trying': 1,\n",
       " 'to': 8,\n",
       " 'explain': 1,\n",
       " 'somebody': 3,\n",
       " 'as': 1,\n",
       " 'we': 2,\n",
       " 'were': 2,\n",
       " 'flying': 1,\n",
       " 'in': 5,\n",
       " 'that': 4,\n",
       " 's': 3,\n",
       " 'corn': 1,\n",
       " 'and': 7,\n",
       " 'they': 1,\n",
       " 'very': 1,\n",
       " 'impressed': 1,\n",
       " 'at': 4,\n",
       " 'my': 1,\n",
       " 'agricultural': 1,\n",
       " 'knowledge': 1,\n",
       " 'please': 1,\n",
       " 'give': 1,\n",
       " 'it': 3,\n",
       " 'up': 1,\n",
       " 'for': 5,\n",
       " 'amaury': 1,\n",
       " 'once': 1,\n",
       " 'again': 1,\n",
       " 'outstanding': 2,\n",
       " 'introduction': 1,\n",
       " 'have': 3,\n",
       " 'a': 2,\n",
       " 'bunch': 1,\n",
       " 'of': 3,\n",
       " 'good': 1,\n",
       " 'friends': 1,\n",
       " 'here': 5,\n",
       " 'today': 2,\n",
       " 'including': 1,\n",
       " 'who': 4,\n",
       " 'served': 1,\n",
       " 'with': 1,\n",
       " 'is': 4,\n",
       " 'one': 1,\n",
       " 'the': 9,\n",
       " 'finest': 1,\n",
       " 'senators': 1,\n",
       " 'country': 1,\n",
       " 're': 1,\n",
       " 'lucky': 1,\n",
       " 'him': 1,\n",
       " 'your': 1,\n",
       " 'senator': 1,\n",
       " 'dick': 1,\n",
       " 'durbin': 1,\n",
       " 'also': 1,\n",
       " 'noticed': 1,\n",
       " 'by': 2,\n",
       " 'way': 1,\n",
       " 'former': 1,\n",
       " 'governor': 2,\n",
       " 'edgar': 1,\n",
       " 'haven': 1,\n",
       " 't': 2,\n",
       " 'seen': 1,\n",
       " 'long': 1,\n",
       " 'time': 1,\n",
       " 'somehow': 1,\n",
       " 'he': 2,\n",
       " 'has': 1,\n",
       " 'not': 1,\n",
       " 'aged': 1,\n",
       " 'great': 1,\n",
       " 'see': 1,\n",
       " 'you': 1,\n",
       " 'want': 2,\n",
       " 'thank': 1,\n",
       " 'president': 1,\n",
       " 'killeen': 1,\n",
       " 'everybody': 1,\n",
       " 'u': 1,\n",
       " 'system': 1,\n",
       " 'making': 1,\n",
       " 'possible': 1,\n",
       " 'me': 2,\n",
       " 'be': 1,\n",
       " 'am': 1,\n",
       " 'deeply': 1,\n",
       " 'honored': 1,\n",
       " 'paul': 1,\n",
       " 'douglas': 1,\n",
       " 'award': 1,\n",
       " 'being': 1,\n",
       " 'given': 1,\n",
       " 'set': 1,\n",
       " 'path': 1,\n",
       " 'so': 1,\n",
       " 'much': 1,\n",
       " 'public': 1,\n",
       " 'service': 1,\n",
       " 'illinois': 1,\n",
       " 'now': 1,\n",
       " 'start': 1,\n",
       " 'addressing': 1,\n",
       " 'elephant': 1,\n",
       " 'room': 1,\n",
       " 'know': 1,\n",
       " 'people': 1,\n",
       " 'are': 1,\n",
       " 'still': 1,\n",
       " 'wondering': 1,\n",
       " 'why': 1,\n",
       " 'didn': 1,\n",
       " 'speak': 1,\n",
       " 'commencement': 1}"
      ]
     },
     "execution_count": 5,
     "metadata": {},
     "output_type": "execute_result"
    }
   ],
   "source": [
    "word2count"
   ]
  },
  {
   "cell_type": "markdown",
   "id": "e02779b5-59bb-4cb1-97fb-e7d99e294007",
   "metadata": {},
   "source": [
    "We do not need to use all those words. Hence, we select a particular number of most frequently used words."
   ]
  },
  {
   "cell_type": "code",
   "execution_count": 6,
   "id": "6bd83e81-f551-4ac1-977e-cacda308c9e3",
   "metadata": {},
   "outputs": [],
   "source": [
    "import heapq\n",
    "freq_words = heapq.nlargest(100, word2count, key=word2count.get)"
   ]
  },
  {
   "cell_type": "code",
   "execution_count": 7,
   "id": "24f87160-d8d1-4ac4-b232-aba7ddbe7a35",
   "metadata": {},
   "outputs": [
    {
     "data": {
      "text/plain": [
       "['i',\n",
       " 'the',\n",
       " 'to',\n",
       " 'and',\n",
       " 'in',\n",
       " 'for',\n",
       " 'here',\n",
       " 'that',\n",
       " 'at',\n",
       " 'who',\n",
       " 'is',\n",
       " 'somebody',\n",
       " 's',\n",
       " 'it',\n",
       " 'have',\n",
       " 'of',\n",
       " 'beans',\n",
       " 'we',\n",
       " 'were',\n",
       " 'outstanding',\n",
       " 'a',\n",
       " 'today',\n",
       " 'by',\n",
       " 'governor',\n",
       " 't',\n",
       " 'he',\n",
       " 'want',\n",
       " 'me',\n",
       " 'was',\n",
       " 'trying',\n",
       " 'explain',\n",
       " 'as',\n",
       " 'flying',\n",
       " 'corn',\n",
       " 'they',\n",
       " 'very',\n",
       " 'impressed',\n",
       " 'my',\n",
       " 'agricultural',\n",
       " 'knowledge',\n",
       " 'please',\n",
       " 'give',\n",
       " 'up',\n",
       " 'amaury',\n",
       " 'once',\n",
       " 'again',\n",
       " 'introduction',\n",
       " 'bunch',\n",
       " 'good',\n",
       " 'friends',\n",
       " 'including',\n",
       " 'served',\n",
       " 'with',\n",
       " 'one',\n",
       " 'finest',\n",
       " 'senators',\n",
       " 'country',\n",
       " 're',\n",
       " 'lucky',\n",
       " 'him',\n",
       " 'your',\n",
       " 'senator',\n",
       " 'dick',\n",
       " 'durbin',\n",
       " 'also',\n",
       " 'noticed',\n",
       " 'way',\n",
       " 'former',\n",
       " 'edgar',\n",
       " 'haven',\n",
       " 'seen',\n",
       " 'long',\n",
       " 'time',\n",
       " 'somehow',\n",
       " 'has',\n",
       " 'not',\n",
       " 'aged',\n",
       " 'great',\n",
       " 'see',\n",
       " 'you',\n",
       " 'thank',\n",
       " 'president',\n",
       " 'killeen',\n",
       " 'everybody',\n",
       " 'u',\n",
       " 'system',\n",
       " 'making',\n",
       " 'possible',\n",
       " 'be',\n",
       " 'am',\n",
       " 'deeply',\n",
       " 'honored',\n",
       " 'paul',\n",
       " 'douglas',\n",
       " 'award',\n",
       " 'being',\n",
       " 'given',\n",
       " 'set',\n",
       " 'path',\n",
       " 'so']"
      ]
     },
     "execution_count": 7,
     "metadata": {},
     "output_type": "execute_result"
    }
   ],
   "source": [
    "freq_words"
   ]
  },
  {
   "cell_type": "markdown",
   "id": "9474d4ef-4c2d-48b4-9661-0d2096f787c9",
   "metadata": {},
   "source": [
    "#### Step #3 : Building the Bag of Words model"
   ]
  },
  {
   "cell_type": "code",
   "execution_count": 8,
   "id": "759b3fa7-9cf3-4922-a3ea-94cf38877c32",
   "metadata": {},
   "outputs": [],
   "source": [
    "X = []\n",
    "for data in dataset:\n",
    "\tvector = []\n",
    "\tfor word in freq_words:\n",
    "\t\tif word in nltk.word_tokenize(data):\n",
    "\t\t\tvector.append(1)\n",
    "\t\telse:\n",
    "\t\t\tvector.append(0)\n",
    "\tX.append(vector)\n",
    "X = np.asarray(X)\n"
   ]
  },
  {
   "cell_type": "code",
   "execution_count": 9,
   "id": "01e19b0d-0e0f-492d-af3a-6489907c1a1f",
   "metadata": {},
   "outputs": [
    {
     "data": {
      "text/plain": [
       "array([[0, 0, 0, ..., 0, 0, 0],\n",
       "       [1, 0, 1, ..., 0, 0, 0],\n",
       "       [0, 0, 0, ..., 0, 0, 0],\n",
       "       ...,\n",
       "       [0, 1, 0, ..., 1, 1, 1],\n",
       "       [1, 1, 1, ..., 0, 0, 0],\n",
       "       [1, 1, 0, ..., 0, 0, 0]])"
      ]
     },
     "execution_count": 9,
     "metadata": {},
     "output_type": "execute_result"
    }
   ],
   "source": [
    "X"
   ]
  },
  {
   "cell_type": "code",
   "execution_count": null,
   "id": "1d8612cd-8456-474a-9cb6-64551f3012bb",
   "metadata": {},
   "outputs": [],
   "source": []
  }
 ],
 "metadata": {
  "kernelspec": {
   "display_name": "Python 3 (ipykernel)",
   "language": "python",
   "name": "python3"
  },
  "language_info": {
   "codemirror_mode": {
    "name": "ipython",
    "version": 3
   },
   "file_extension": ".py",
   "mimetype": "text/x-python",
   "name": "python",
   "nbconvert_exporter": "python",
   "pygments_lexer": "ipython3",
   "version": "3.8.5"
  }
 },
 "nbformat": 4,
 "nbformat_minor": 5
}
